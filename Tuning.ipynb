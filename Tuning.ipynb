{
 "cells": [
  {
   "cell_type": "markdown",
   "id": "a34058af",
   "metadata": {},
   "source": [
    "Import necessary packages"
   ]
  },
  {
   "cell_type": "code",
   "execution_count": 1,
   "id": "2a2e7852",
   "metadata": {},
   "outputs": [],
   "source": [
    "import numpy as np\n",
    "import pandas as pd\n",
    "import os\n"
   ]
  },
  {
   "cell_type": "markdown",
   "id": "4a730533",
   "metadata": {},
   "source": [
    "RENAME IMAGE FILES"
   ]
  },
  {
   "cell_type": "code",
   "execution_count": 2,
   "id": "13bcae4c",
   "metadata": {},
   "outputs": [
    {
     "data": {
      "text/plain": [
       "'\\nfolder_path = r\"Data\\\\Very mild Dementia\" \\nfile_list = os.listdir(folder_path)\\n\\n#sort files \\nfile_list.sort()\\n\\nfor idx, filename in enumerate(file_list):\\n    if filename.lower().endswith((\".jpg\", \".jpeg\", \".png\")):\\n        old_path = os.path.join(folder_path, filename)\\n        new_filename = f\"image_{idx}.jpg\"  \\n        new_path = os.path.join(folder_path, new_filename)\\n        os.rename(old_path, new_path)\\n        print(f\"Renamed: {filename} -> {new_filename}\")\\n'"
      ]
     },
     "execution_count": 2,
     "metadata": {},
     "output_type": "execute_result"
    }
   ],
   "source": [
    "\"\"\"\n",
    "folder_path = r\"Data\\Very mild Dementia\" \n",
    "file_list = os.listdir(folder_path)\n",
    "\n",
    "#sort files \n",
    "file_list.sort()\n",
    "\n",
    "for idx, filename in enumerate(file_list):\n",
    "    if filename.lower().endswith((\".jpg\", \".jpeg\", \".png\")):\n",
    "        old_path = os.path.join(folder_path, filename)\n",
    "        new_filename = f\"image_{idx}.jpg\"  \n",
    "        new_path = os.path.join(folder_path, new_filename)\n",
    "        os.rename(old_path, new_path)\n",
    "        print(f\"Renamed: {filename} -> {new_filename}\")\n",
    "\"\"\"\n"
   ]
  },
  {
   "cell_type": "markdown",
   "id": "4e6037ce",
   "metadata": {},
   "source": [
    "**IMAGE PRE-PROCESSING**"
   ]
  },
  {
   "cell_type": "code",
   "execution_count": 4,
   "id": "49a5d6c5",
   "metadata": {},
   "outputs": [],
   "source": [
    "from tensorflow.keras.utils import load_img, img_to_array\n",
    "from PIL import Image\n",
    "import matplotlib.pyplot as plt\n",
    "import numpy as np\n",
    "\n",
    "\n",
    "#size of each image folders\n",
    "MD_size = len(os.listdir(r\"Data\\Mild Dementia\"))\n",
    "ND_size = len(os.listdir(r\"Data\\Non Demented\"))\n",
    "MoD_size = len(os.listdir(r\"Data\\Moderate Dementia\"))\n",
    "VMD_size = len(os.listdir(r\"Data\\Very mild Dementia\"))\n",
    "\n",
    "\n",
    "\n",
    "ImagesMD = []\n",
    "  \n",
    "for key in range(MD_size):\n",
    "    img = load_img(rf\"Data\\Mild Dementia\\image_{key}.jpg\").convert(\"RGB\")\n",
    "    img_resized = img.resize((128, 128), Image.Resampling.LANCZOS)\n",
    "    img_array = img_to_array(img_resized).astype(np.uint8)\n",
    "    ImagesMD.append(img_array)\n",
    "\n",
    "MD_img = pd.DataFrame({\"Images\":ImagesMD})\n",
    "\n",
    "\n",
    "\n",
    "\n",
    "ImagesND = []\n",
    "  \n",
    "for key in range(ND_size):\n",
    "    img = load_img(rf\"Data\\Non Demented\\image_{key}.jpg\").convert(\"RGB\")\n",
    "    img_resized = img.resize((128, 128), Image.Resampling.LANCZOS)\n",
    "    img_array = img_to_array(img_resized).astype(np.uint8)\n",
    "    ImagesND.append(img_array)\n",
    "\n",
    "ND_img = pd.DataFrame({\"Images\":ImagesND})\n",
    "\n",
    "\n",
    "ImagesMoD = []\n",
    "  \n",
    "for key in range(MoD_size):\n",
    "    img = load_img(rf\"Data\\Moderate Dementia\\image_{key}.jpg\").convert(\"RGB\")\n",
    "    img_resized = img.resize((128, 128), Image.Resampling.LANCZOS)\n",
    "    img_array = img_to_array(img_resized).astype(np.uint8)\n",
    "    ImagesMoD.append(img_array)\n",
    "MoD_img = pd.DataFrame({\"Images\":ImagesMoD})\n",
    "\n",
    "\n",
    "ImagesVMD = []\n",
    "  \n",
    "for key in range(VMD_size):\n",
    "    img = load_img(rf\"Data\\Very mild Dementia\\image_{key}.jpg\").convert(\"RGB\")\n",
    "    img_resized = img.resize((128, 128), Image.Resampling.LANCZOS)\n",
    "    img_array = img_to_array(img_resized).astype(np.uint8)\n",
    "    ImagesVMD.append(img_array)\n",
    "VMD_img = pd.DataFrame({\"Images\":ImagesVMD})\n",
    "\n",
    "\n",
    "\n",
    "\n",
    "\n",
    "#MD_img\n",
    "\n",
    "MD_ = pd.DataFrame({\"label\": np.array([\"MD\" for key in range(MD_size)])})\n",
    "MD_df = pd.concat([MD_img, MD_], axis = 1).sort_index()\n",
    "\n",
    "#ND_img\n",
    "\n",
    "ND_ = pd.DataFrame({\"label\": np.array([\"ND\" for key in range(ND_size)])})\n",
    "ND_df = pd.concat([ND_img, ND_], axis = 1).sort_index()\n",
    "\n",
    "\n",
    "#MoD_img\n",
    "\n",
    "MoD_ = pd.DataFrame({\"label\": np.array([\"MoD\" for key in range(MoD_size)])})\n",
    "MoD_df = pd.concat([MoD_img, MoD_], axis = 1).sort_index()\n",
    "\n",
    "\n",
    "#VMD_img\n",
    "\n",
    "VMD_ = pd.DataFrame({\"label\": np.array([\"VMD\" for key in range(VMD_size)])})\n",
    "VMD_df = pd.concat([VMD_img, VMD_], axis = 1).sort_index()"
   ]
  },
  {
   "cell_type": "markdown",
   "id": "0117277b",
   "metadata": {},
   "source": [
    " split into training and testing datasets"
   ]
  },
  {
   "cell_type": "code",
   "execution_count": 5,
   "id": "41bc1431",
   "metadata": {},
   "outputs": [],
   "source": [
    "#concat\n",
    "DATA = pd.concat([MD_df, ND_df, MoD_df, VMD_df]).reset_index().drop(\"index\", axis= 1)"
   ]
  },
  {
   "cell_type": "code",
   "execution_count": 6,
   "id": "c680098d",
   "metadata": {},
   "outputs": [
    {
     "data": {
      "text/plain": [
       "4"
      ]
     },
     "execution_count": 6,
     "metadata": {},
     "output_type": "execute_result"
    }
   ],
   "source": [
    "#ENCODING label\n",
    "from sklearn.preprocessing import LabelEncoder\n",
    "\n",
    "encoder = LabelEncoder()\n",
    "DATA[\"label\"] = encoder.fit_transform(DATA[\"label\"])\n",
    "\n",
    "\n",
    "\n",
    "#encoder.classes_\n",
    "DATA[\"label\"].nunique()"
   ]
  },
  {
   "cell_type": "code",
   "execution_count": 7,
   "id": "e47b2175",
   "metadata": {},
   "outputs": [],
   "source": [
    "X = DATA[\"Images\"]\n",
    "Y = DATA[\"label\"]\n",
    "\"\"\"\n",
    "Split datasets into train, valid, test\n",
    "\"\"\"\n",
    "from sklearn.model_selection import train_test_split\n",
    "\n",
    "x_train, x_check, y_train, y_check = train_test_split(X, Y, test_size = 0.3, random_state = 41, stratify = Y)\n",
    "\n",
    "#split the check datasets into test and validation\n",
    "x_test, x_val, y_test, y_val = train_test_split(x_check, y_check, test_size = 0.2, random_state = 41, stratify = y_check)"
   ]
  },
  {
   "cell_type": "markdown",
   "id": "53e914a8",
   "metadata": {},
   "source": [
    "Chunk Sizes"
   ]
  },
  {
   "cell_type": "code",
   "execution_count": 8,
   "id": "30257f61",
   "metadata": {},
   "outputs": [],
   "source": [
    "#chunking sizes\n",
    "\n",
    "batch_size = 32\n",
    "x_train_scaled = []\n",
    "x_test_scaled = []\n",
    "x_val_scaled = []\n",
    "\n",
    "for i in range(0, len(x_train), batch_size):\n",
    "    batch = np.stack(x_train.values[i:i+batch_size]).astype(np.float32) / 255.0\n",
    "    x_train_scaled.append(batch)\n",
    "\n",
    "x_train_scaled = np.concatenate(x_train_scaled)\n",
    "\n",
    "\n",
    "\n",
    "for i in range(0, len(x_test), batch_size):\n",
    "    batch = np.stack(x_test.values[i:i+batch_size]).astype(np.float32) / 255.0\n",
    "    x_test_scaled.append(batch)\n",
    "\n",
    "x_test_scaled = np.concatenate(x_test_scaled)\n",
    "\n",
    "\n",
    "\n",
    "for i in range(0, len(x_val), batch_size):\n",
    "    batch = np.stack(x_val.values[i:i+batch_size]).astype(np.float32) / 255.0\n",
    "    x_val_scaled.append(batch)\n",
    "\n",
    "x_val_scaled = np.concatenate(x_val_scaled)\n"
   ]
  },
  {
   "cell_type": "code",
   "execution_count": 9,
   "id": "0cef2316",
   "metadata": {},
   "outputs": [
    {
     "data": {
      "text/plain": [
       "array([[[[0., 0., 0.],\n",
       "         [0., 0., 0.],\n",
       "         [0., 0., 0.],\n",
       "         ...,\n",
       "         [0., 0., 0.],\n",
       "         [0., 0., 0.],\n",
       "         [0., 0., 0.]],\n",
       "\n",
       "        [[0., 0., 0.],\n",
       "         [0., 0., 0.],\n",
       "         [0., 0., 0.],\n",
       "         ...,\n",
       "         [0., 0., 0.],\n",
       "         [0., 0., 0.],\n",
       "         [0., 0., 0.]],\n",
       "\n",
       "        [[0., 0., 0.],\n",
       "         [0., 0., 0.],\n",
       "         [0., 0., 0.],\n",
       "         ...,\n",
       "         [0., 0., 0.],\n",
       "         [0., 0., 0.],\n",
       "         [0., 0., 0.]],\n",
       "\n",
       "        ...,\n",
       "\n",
       "        [[0., 0., 0.],\n",
       "         [0., 0., 0.],\n",
       "         [0., 0., 0.],\n",
       "         ...,\n",
       "         [0., 0., 0.],\n",
       "         [0., 0., 0.],\n",
       "         [0., 0., 0.]],\n",
       "\n",
       "        [[0., 0., 0.],\n",
       "         [0., 0., 0.],\n",
       "         [0., 0., 0.],\n",
       "         ...,\n",
       "         [0., 0., 0.],\n",
       "         [0., 0., 0.],\n",
       "         [0., 0., 0.]],\n",
       "\n",
       "        [[0., 0., 0.],\n",
       "         [0., 0., 0.],\n",
       "         [0., 0., 0.],\n",
       "         ...,\n",
       "         [0., 0., 0.],\n",
       "         [0., 0., 0.],\n",
       "         [0., 0., 0.]]],\n",
       "\n",
       "\n",
       "       [[[0., 0., 0.],\n",
       "         [0., 0., 0.],\n",
       "         [0., 0., 0.],\n",
       "         ...,\n",
       "         [0., 0., 0.],\n",
       "         [0., 0., 0.],\n",
       "         [0., 0., 0.]],\n",
       "\n",
       "        [[0., 0., 0.],\n",
       "         [0., 0., 0.],\n",
       "         [0., 0., 0.],\n",
       "         ...,\n",
       "         [0., 0., 0.],\n",
       "         [0., 0., 0.],\n",
       "         [0., 0., 0.]],\n",
       "\n",
       "        [[0., 0., 0.],\n",
       "         [0., 0., 0.],\n",
       "         [0., 0., 0.],\n",
       "         ...,\n",
       "         [0., 0., 0.],\n",
       "         [0., 0., 0.],\n",
       "         [0., 0., 0.]],\n",
       "\n",
       "        ...,\n",
       "\n",
       "        [[0., 0., 0.],\n",
       "         [0., 0., 0.],\n",
       "         [0., 0., 0.],\n",
       "         ...,\n",
       "         [0., 0., 0.],\n",
       "         [0., 0., 0.],\n",
       "         [0., 0., 0.]],\n",
       "\n",
       "        [[0., 0., 0.],\n",
       "         [0., 0., 0.],\n",
       "         [0., 0., 0.],\n",
       "         ...,\n",
       "         [0., 0., 0.],\n",
       "         [0., 0., 0.],\n",
       "         [0., 0., 0.]],\n",
       "\n",
       "        [[0., 0., 0.],\n",
       "         [0., 0., 0.],\n",
       "         [0., 0., 0.],\n",
       "         ...,\n",
       "         [0., 0., 0.],\n",
       "         [0., 0., 0.],\n",
       "         [0., 0., 0.]]],\n",
       "\n",
       "\n",
       "       [[[0., 0., 0.],\n",
       "         [0., 0., 0.],\n",
       "         [0., 0., 0.],\n",
       "         ...,\n",
       "         [0., 0., 0.],\n",
       "         [0., 0., 0.],\n",
       "         [0., 0., 0.]],\n",
       "\n",
       "        [[0., 0., 0.],\n",
       "         [0., 0., 0.],\n",
       "         [0., 0., 0.],\n",
       "         ...,\n",
       "         [0., 0., 0.],\n",
       "         [0., 0., 0.],\n",
       "         [0., 0., 0.]],\n",
       "\n",
       "        [[0., 0., 0.],\n",
       "         [0., 0., 0.],\n",
       "         [0., 0., 0.],\n",
       "         ...,\n",
       "         [0., 0., 0.],\n",
       "         [0., 0., 0.],\n",
       "         [0., 0., 0.]],\n",
       "\n",
       "        ...,\n",
       "\n",
       "        [[0., 0., 0.],\n",
       "         [0., 0., 0.],\n",
       "         [0., 0., 0.],\n",
       "         ...,\n",
       "         [0., 0., 0.],\n",
       "         [0., 0., 0.],\n",
       "         [0., 0., 0.]],\n",
       "\n",
       "        [[0., 0., 0.],\n",
       "         [0., 0., 0.],\n",
       "         [0., 0., 0.],\n",
       "         ...,\n",
       "         [0., 0., 0.],\n",
       "         [0., 0., 0.],\n",
       "         [0., 0., 0.]],\n",
       "\n",
       "        [[0., 0., 0.],\n",
       "         [0., 0., 0.],\n",
       "         [0., 0., 0.],\n",
       "         ...,\n",
       "         [0., 0., 0.],\n",
       "         [0., 0., 0.],\n",
       "         [0., 0., 0.]]],\n",
       "\n",
       "\n",
       "       ...,\n",
       "\n",
       "\n",
       "       [[[0., 0., 0.],\n",
       "         [0., 0., 0.],\n",
       "         [0., 0., 0.],\n",
       "         ...,\n",
       "         [0., 0., 0.],\n",
       "         [0., 0., 0.],\n",
       "         [0., 0., 0.]],\n",
       "\n",
       "        [[0., 0., 0.],\n",
       "         [0., 0., 0.],\n",
       "         [0., 0., 0.],\n",
       "         ...,\n",
       "         [0., 0., 0.],\n",
       "         [0., 0., 0.],\n",
       "         [0., 0., 0.]],\n",
       "\n",
       "        [[0., 0., 0.],\n",
       "         [0., 0., 0.],\n",
       "         [0., 0., 0.],\n",
       "         ...,\n",
       "         [0., 0., 0.],\n",
       "         [0., 0., 0.],\n",
       "         [0., 0., 0.]],\n",
       "\n",
       "        ...,\n",
       "\n",
       "        [[0., 0., 0.],\n",
       "         [0., 0., 0.],\n",
       "         [0., 0., 0.],\n",
       "         ...,\n",
       "         [0., 0., 0.],\n",
       "         [0., 0., 0.],\n",
       "         [0., 0., 0.]],\n",
       "\n",
       "        [[0., 0., 0.],\n",
       "         [0., 0., 0.],\n",
       "         [0., 0., 0.],\n",
       "         ...,\n",
       "         [0., 0., 0.],\n",
       "         [0., 0., 0.],\n",
       "         [0., 0., 0.]],\n",
       "\n",
       "        [[0., 0., 0.],\n",
       "         [0., 0., 0.],\n",
       "         [0., 0., 0.],\n",
       "         ...,\n",
       "         [0., 0., 0.],\n",
       "         [0., 0., 0.],\n",
       "         [0., 0., 0.]]],\n",
       "\n",
       "\n",
       "       [[[0., 0., 0.],\n",
       "         [0., 0., 0.],\n",
       "         [0., 0., 0.],\n",
       "         ...,\n",
       "         [0., 0., 0.],\n",
       "         [0., 0., 0.],\n",
       "         [0., 0., 0.]],\n",
       "\n",
       "        [[0., 0., 0.],\n",
       "         [0., 0., 0.],\n",
       "         [0., 0., 0.],\n",
       "         ...,\n",
       "         [0., 0., 0.],\n",
       "         [0., 0., 0.],\n",
       "         [0., 0., 0.]],\n",
       "\n",
       "        [[0., 0., 0.],\n",
       "         [0., 0., 0.],\n",
       "         [0., 0., 0.],\n",
       "         ...,\n",
       "         [0., 0., 0.],\n",
       "         [0., 0., 0.],\n",
       "         [0., 0., 0.]],\n",
       "\n",
       "        ...,\n",
       "\n",
       "        [[0., 0., 0.],\n",
       "         [0., 0., 0.],\n",
       "         [0., 0., 0.],\n",
       "         ...,\n",
       "         [0., 0., 0.],\n",
       "         [0., 0., 0.],\n",
       "         [0., 0., 0.]],\n",
       "\n",
       "        [[0., 0., 0.],\n",
       "         [0., 0., 0.],\n",
       "         [0., 0., 0.],\n",
       "         ...,\n",
       "         [0., 0., 0.],\n",
       "         [0., 0., 0.],\n",
       "         [0., 0., 0.]],\n",
       "\n",
       "        [[0., 0., 0.],\n",
       "         [0., 0., 0.],\n",
       "         [0., 0., 0.],\n",
       "         ...,\n",
       "         [0., 0., 0.],\n",
       "         [0., 0., 0.],\n",
       "         [0., 0., 0.]]],\n",
       "\n",
       "\n",
       "       [[[0., 0., 0.],\n",
       "         [0., 0., 0.],\n",
       "         [0., 0., 0.],\n",
       "         ...,\n",
       "         [0., 0., 0.],\n",
       "         [0., 0., 0.],\n",
       "         [0., 0., 0.]],\n",
       "\n",
       "        [[0., 0., 0.],\n",
       "         [0., 0., 0.],\n",
       "         [0., 0., 0.],\n",
       "         ...,\n",
       "         [0., 0., 0.],\n",
       "         [0., 0., 0.],\n",
       "         [0., 0., 0.]],\n",
       "\n",
       "        [[0., 0., 0.],\n",
       "         [0., 0., 0.],\n",
       "         [0., 0., 0.],\n",
       "         ...,\n",
       "         [0., 0., 0.],\n",
       "         [0., 0., 0.],\n",
       "         [0., 0., 0.]],\n",
       "\n",
       "        ...,\n",
       "\n",
       "        [[0., 0., 0.],\n",
       "         [0., 0., 0.],\n",
       "         [0., 0., 0.],\n",
       "         ...,\n",
       "         [0., 0., 0.],\n",
       "         [0., 0., 0.],\n",
       "         [0., 0., 0.]],\n",
       "\n",
       "        [[0., 0., 0.],\n",
       "         [0., 0., 0.],\n",
       "         [0., 0., 0.],\n",
       "         ...,\n",
       "         [0., 0., 0.],\n",
       "         [0., 0., 0.],\n",
       "         [0., 0., 0.]],\n",
       "\n",
       "        [[0., 0., 0.],\n",
       "         [0., 0., 0.],\n",
       "         [0., 0., 0.],\n",
       "         ...,\n",
       "         [0., 0., 0.],\n",
       "         [0., 0., 0.],\n",
       "         [0., 0., 0.]]]], dtype=float32)"
      ]
     },
     "execution_count": 9,
     "metadata": {},
     "output_type": "execute_result"
    }
   ],
   "source": [
    "x_train_scaled"
   ]
  },
  {
   "cell_type": "markdown",
   "id": "17fee631",
   "metadata": {},
   "source": [
    "Load the pretrained model"
   ]
  },
  {
   "cell_type": "code",
   "execution_count": 10,
   "id": "4df62ab2",
   "metadata": {},
   "outputs": [
    {
     "name": "stderr",
     "output_type": "stream",
     "text": [
      "WARNING:absl:Compiled the loaded model, but the compiled metrics have yet to be built. `model.compile_metrics` will be empty until you train or evaluate the model.\n"
     ]
    }
   ],
   "source": [
    "#pretrained model\n",
    "from tensorflow.keras.models import load_model, Model\n",
    "base_model = load_model(\"MRI_SCAN_CLASSIFIER.h5\")\n",
    "\n",
    "#load its inputs\n",
    "base_model.inputs\n",
    "base_model.layers\n",
    "Feature_extractor = Model(inputs = base_model.inputs, outputs = base_model.get_layer(\"max_pooling2d_2\").output)\n",
    "\n",
    "#freeze the layers\n",
    "Feature_extractor.trainable = False"
   ]
  },
  {
   "cell_type": "markdown",
   "id": "add3779e",
   "metadata": {},
   "source": [
    "CNN ARCHITECTURE"
   ]
  },
  {
   "cell_type": "code",
   "execution_count": 11,
   "id": "ba1c89f9",
   "metadata": {},
   "outputs": [],
   "source": [
    "#without regularization\n",
    "from tensorflow.keras.models import Sequential\n",
    "from tensorflow.keras.activations import relu, tanh, sigmoid, softmax\n",
    "from tensorflow.keras.optimizers import Adam, SGD\n",
    "from tensorflow.keras.layers import Flatten, Dense, InputLayer, Conv2D, MaxPool2D\n",
    "\n",
    "model = Sequential([\n",
    "    #pretrained \n",
    "    Feature_extractor,\n",
    "    \n",
    "    #flatten\n",
    "    Flatten(),\n",
    "\n",
    "    #hidden layer\n",
    "    Dense(units= 128, activation= relu),\n",
    "\n",
    "    #output\n",
    "    Dense(units= 4, activation= softmax)\n",
    "    \n",
    "\n",
    "\n",
    "])"
   ]
  },
  {
   "cell_type": "markdown",
   "id": "f9024d76",
   "metadata": {},
   "source": [
    "compiling model"
   ]
  },
  {
   "cell_type": "code",
   "execution_count": null,
   "id": "7fd5000b",
   "metadata": {},
   "outputs": [],
   "source": [
    "model.compile(optimizer= Adam(learning_rate= 0.0001), loss= \"sparse_categorical_crossentropy\", metrics= [\"accuracy\"])"
   ]
  },
  {
   "cell_type": "markdown",
   "id": "089a6606",
   "metadata": {},
   "source": [
    "Train model"
   ]
  },
  {
   "cell_type": "code",
   "execution_count": null,
   "id": "1a4ea3f5",
   "metadata": {},
   "outputs": [
    {
     "name": "stdout",
     "output_type": "stream",
     "text": [
      "Epoch 1/5\n",
      "\u001b[1m1072/1072\u001b[0m \u001b[32m━━━━━━━━━━━━━━━━━━━━\u001b[0m\u001b[37m\u001b[0m \u001b[1m193s\u001b[0m 171ms/step - accuracy: 0.7827 - loss: 0.5441 - val_accuracy: 0.9796 - val_loss: 0.1448\n",
      "Epoch 2/5\n",
      "\u001b[1m1072/1072\u001b[0m \u001b[32m━━━━━━━━━━━━━━━━━━━━\u001b[0m\u001b[37m\u001b[0m \u001b[1m170s\u001b[0m 158ms/step - accuracy: 0.9792 - loss: 0.1170 - val_accuracy: 0.9969 - val_loss: 0.0476\n",
      "Epoch 3/5\n",
      "\u001b[1m1072/1072\u001b[0m \u001b[32m━━━━━━━━━━━━━━━━━━━━\u001b[0m\u001b[37m\u001b[0m \u001b[1m167s\u001b[0m 154ms/step - accuracy: 0.9978 - loss: 0.0391 - val_accuracy: 0.9990 - val_loss: 0.0199\n",
      "Epoch 4/5\n",
      "\u001b[1m1072/1072\u001b[0m \u001b[32m━━━━━━━━━━━━━━━━━━━━\u001b[0m\u001b[37m\u001b[0m \u001b[1m161s\u001b[0m 150ms/step - accuracy: 0.9995 - loss: 0.0163 - val_accuracy: 1.0000 - val_loss: 0.0099\n",
      "Epoch 5/5\n",
      "\u001b[1m1072/1072\u001b[0m \u001b[32m━━━━━━━━━━━━━━━━━━━━\u001b[0m\u001b[37m\u001b[0m \u001b[1m162s\u001b[0m 151ms/step - accuracy: 1.0000 - loss: 0.0073 - val_accuracy: 1.0000 - val_loss: 0.0072\n"
     ]
    }
   ],
   "source": [
    "#train model\n",
    "History = model.fit(x= x_train_scaled, y= y_train, validation_data= (x_val_scaled, y_val), epochs= 5)"
   ]
  },
  {
   "cell_type": "markdown",
   "id": "4a5e7bfa",
   "metadata": {},
   "source": [
    "Check for Overfitting"
   ]
  },
  {
   "cell_type": "code",
   "execution_count": null,
   "id": "fc946c88",
   "metadata": {},
   "outputs": [
    {
     "data": {
      "text/plain": [
       "<matplotlib.legend.Legend at 0x2cc24692680>"
      ]
     },
     "execution_count": 14,
     "metadata": {},
     "output_type": "execute_result"
    },
    {
     "data": {
      "image/png": "[encoded data removed]",
      "text/plain": [
       "<Figure size 1000x600 with 1 Axes>"
      ]
     },
     "metadata": {},
     "output_type": "display_data"
    }
   ],
   "source": [
    "train_loss = History.history[\"loss\"]\n",
    "val_loss = History.history[\"val_loss\"]\n",
    "epoch = np.arange(5)+1\n",
    "\n",
    "plt.figure(figsize = (10,6))\n",
    "plt.plot(epoch, train_loss, \"r\", label = \"Train\")\n",
    "plt.plot(epoch, val_loss, \"b\", label = \"Validation\")\n",
    "plt.xlabel(\"epoch\")\n",
    "plt.ylabel(\"Losses\")\n",
    "plt.title(\"Trend before regularization\")\n",
    "plt.legend()"
   ]
  },
  {
   "cell_type": "markdown",
   "id": "194ced65",
   "metadata": {},
   "source": [
    "Model prediction"
   ]
  },
  {
   "cell_type": "code",
   "execution_count": null,
   "id": "8ce6749f",
   "metadata": {},
   "outputs": [
    {
     "name": "stdout",
     "output_type": "stream",
     "text": [
      "\u001b[1m368/368\u001b[0m \u001b[32m━━━━━━━━━━━━━━━━━━━━\u001b[0m\u001b[37m\u001b[0m \u001b[1m42s\u001b[0m 114ms/step\n"
     ]
    }
   ],
   "source": [
    "#predict\n",
    "pred = model.predict(x_test_scaled)\n",
    "\n",
    "from aargmax import Argmax\n",
    "argmax = Argmax(pred)\n",
    "argmax.get_arg()\n",
    "pred_max = argmax.print_list()"
   ]
  },
  {
   "cell_type": "code",
   "execution_count": null,
   "id": "0aa28d18",
   "metadata": {},
   "outputs": [
    {
     "name": "stdout",
     "output_type": "stream",
     "text": [
      "\u001b[1m92/92\u001b[0m \u001b[32m━━━━━━━━━━━━━━━━━━━━\u001b[0m\u001b[37m\u001b[0m \u001b[1m10s\u001b[0m 111ms/step - accuracy: 1.0000 - loss: 0.0067\n"
     ]
    },
    {
     "data": {
      "text/plain": [
       "[0.007155760191380978, 1.0]"
      ]
     },
     "execution_count": 16,
     "metadata": {},
     "output_type": "execute_result"
    }
   ],
   "source": [
    "#evaluate model on validation set\n",
    "model.evaluate(x_val_scaled, y_val)"
   ]
  },
  {
   "cell_type": "markdown",
   "id": "08a3b87e",
   "metadata": {},
   "source": [
    "Metrics"
   ]
  },
  {
   "cell_type": "code",
   "execution_count": null,
   "id": "bab48ba4",
   "metadata": {},
   "outputs": [
    {
     "name": "stdout",
     "output_type": "stream",
     "text": [
      "[[1201    0    0    0]\n",
      " [   0  117    0    0]\n",
      " [   0    0 7142    3]\n",
      " [   0    0    2 3292]]\n",
      "\n",
      "\n",
      "\n",
      "              precision    recall  f1-score   support\n",
      "\n",
      "           0       1.00      1.00      1.00      1201\n",
      "           1       1.00      1.00      1.00       117\n",
      "           2       1.00      1.00      1.00      7145\n",
      "           3       1.00      1.00      1.00      3294\n",
      "\n",
      "    accuracy                           1.00     11757\n",
      "   macro avg       1.00      1.00      1.00     11757\n",
      "weighted avg       1.00      1.00      1.00     11757\n",
      "\n",
      "f2_score = 0.9997105584820201\n"
     ]
    }
   ],
   "source": [
    "#get metrics\n",
    "from sklearn.metrics import classification_report, confusion_matrix, fbeta_score\n",
    "\n",
    "print(confusion_matrix(y_test, pred_max))\n",
    "\n",
    "print(\"\\n\\n\")\n",
    "\n",
    "print(classification_report(y_test, pred_max))\n",
    "\n",
    "#print F2 score\n",
    "print(f\"f2_score = {fbeta_score(y_test, pred_max, beta= 0.5, average = 'macro')}\")"
   ]
  }
 ],
 "metadata": {
  "kernelspec": {
   "display_name": "tfenv",
   "language": "python",
   "name": "python3"
  },
  "language_info": {
   "codemirror_mode": {
    "name": "ipython",
    "version": 3
   },
   "file_extension": ".py",
   "mimetype": "text/x-python",
   "name": "python",
   "nbconvert_exporter": "python",
   "pygments_lexer": "ipython3",
   "version": "3.10.18"
  }
 },
 "nbformat": 4,
 "nbformat_minor": 5
}
